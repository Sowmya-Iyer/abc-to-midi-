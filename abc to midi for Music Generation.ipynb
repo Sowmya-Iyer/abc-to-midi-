{
 "cells": [
  {
   "cell_type": "code",
   "execution_count": 1,
   "metadata": {},
   "outputs": [],
   "source": [
    "import tensorflow as tf \n",
    "import numpy as np\n",
    "import os\n",
    "import time\n",
    "import functools"
   ]
  },
  {
   "cell_type": "code",
   "execution_count": null,
   "metadata": {},
   "outputs": [],
   "source": [
    "with open(\"/content/drive/My Drive/Music Generation/data/jigs.txt\", \"r\") as input:\n",
    "    songs = input.read().split(\"\\n\\n\\n\")\n",
    "print(\"Total songs : {}\".format(len(songs)))\n",
    "# Print one of the songs to inspect it in greater detail!\n",
    "example_song = songs[0]\n",
    "print(\"\\nExample song: \")\n",
    "print(example_song)"
   ]
  },
  {
   "cell_type": "code",
   "execution_count": null,
   "metadata": {},
   "outputs": [],
   "source": [
    "#converting abc file to midi\n",
    "\n",
    "from music21 import *\n",
    "import pygame\n",
    "# import cStringIO\n",
    "from io import StringIO\n",
    "o = converter.parse(\"/content/drive/My Drive/Music Generation/data/tmp.abc\")\n",
    "om= midi.translate.streamToMidiFile(o)\n",
    "print(type(om))\n",
    "sp = midi.realtime.StreamPlayer(om)\n",
    "sp.play()\n",
    "o.show('midi')\n",
    "# sp = midi.realtime.StreamPlayer(o)\n"
   ]
  },
  {
   "cell_type": "code",
   "execution_count": null,
   "metadata": {},
   "outputs": [],
   "source": [
    "import os\n",
    "import regex as re\n",
    "import subprocess\n",
    "import urllib\n",
    "import numpy as np\n",
    "import tensorflow as tf\n",
    "\n",
    "from IPython.display import Audio\n",
    "def save_song_to_abc(song, filename=\"tmp\"):\n",
    "    save_name = \"{}.abc\".format(filename)\n",
    "    with open(save_name, \"w\") as f:\n",
    "        f.write(song)\n",
    "    return filename\n",
    "abc_file=save_song_to_abc(example_song)"
   ]
  }
 ],
 "metadata": {
  "kernelspec": {
   "display_name": "Python 3",
   "language": "python",
   "name": "python3"
  },
  "language_info": {
   "codemirror_mode": {
    "name": "ipython",
    "version": 3
   },
   "file_extension": ".py",
   "mimetype": "text/x-python",
   "name": "python",
   "nbconvert_exporter": "python",
   "pygments_lexer": "ipython3",
   "version": "3.8.2"
  }
 },
 "nbformat": 4,
 "nbformat_minor": 4
}
